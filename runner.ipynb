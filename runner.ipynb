{
 "cells": [
  {
   "cell_type": "code",
   "execution_count": 1,
   "metadata": {},
   "outputs": [],
   "source": [
    "from subprocess import call"
   ]
  },
  {
   "cell_type": "code",
   "execution_count": 4,
   "metadata": {},
   "outputs": [],
   "source": [
    "names = [\n",
    "    \"nose\",\n",
    "    \"lips\",\n",
    "    \"eyes\",\n",
    "    \"left_eye\",\n",
    "    \"right_eye\",\n",
    "    \"cheeks\",\n",
    "    \"right_cheek\",\n",
    "    \"left_cheek\",\n",
    "    \"chin\",\n",
    "    \"eyebrows\",\n",
    "    \"left_eyebrow\",\n",
    "    \"right_eyebrow\"\n",
    "]"
   ]
  },
  {
   "cell_type": "code",
   "execution_count": 3,
   "metadata": {},
   "outputs": [
    {
     "name": "stdout",
     "output_type": "stream",
     "text": [
      "1 mediapipe\n",
      "2 mediapipe\n",
      "3 mediapipe\n",
      "4 mediapipe\n",
      "5 mediapipe\n"
     ]
    }
   ],
   "source": [
    "#for name in [\"mediapipe\"]:\n",
    "    #for k in range(1,6):\n",
    "        #print(k,name)\n",
    "        #call([\"python\", \"cross_validation.py\", name, str(k), \"vggface\", str(2)])"
   ]
  },
  {
   "cell_type": "code",
   "execution_count": 6,
   "metadata": {},
   "outputs": [
    {
     "name": "stdout",
     "output_type": "stream",
     "text": [
      "MEBeauty vggface nose 0\n",
      "MEBeauty vggface lips 0\n",
      "MEBeauty vggface eyes 0\n",
      "MEBeauty vggface left_eye 0\n",
      "MEBeauty vggface right_eye 0\n",
      "MEBeauty vggface cheeks 0\n",
      "MEBeauty vggface right_cheek 0\n",
      "MEBeauty vggface left_cheek 0\n",
      "MEBeauty vggface chin 0\n",
      "MEBeauty vggface eyebrows 0\n",
      "MEBeauty vggface left_eyebrow 0\n",
      "MEBeauty vggface right_eyebrow 0\n"
     ]
    }
   ],
   "source": [
    "weights = \"vggface\"\n",
    "for name in names:\n",
    "    for k in range(1):\n",
    "        print(dataset, weights, name, k)\n",
    "        call([\"python\", \"trainer.py\", \"MEBeauty\", \"vggface\", name, str(k), str(10)])"
   ]
  }
 ],
 "metadata": {
  "kernelspec": {
   "display_name": "Python 3",
   "language": "python",
   "name": "python3"
  },
  "language_info": {
   "codemirror_mode": {
    "name": "ipython",
    "version": 3
   },
   "file_extension": ".py",
   "mimetype": "text/x-python",
   "name": "python",
   "nbconvert_exporter": "python",
   "pygments_lexer": "ipython3",
   "version": "3.10.6"
  }
 },
 "nbformat": 4,
 "nbformat_minor": 2
}
