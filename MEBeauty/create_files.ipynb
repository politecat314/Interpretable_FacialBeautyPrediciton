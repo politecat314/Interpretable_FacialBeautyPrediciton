{
 "cells": [
  {
   "cell_type": "code",
   "execution_count": 1,
   "metadata": {},
   "outputs": [],
   "source": [
    "import pandas as pd\n",
    "import numpy as np\n",
    "import os\n",
    "from sklearn.model_selection import train_test_split"
   ]
  },
  {
   "cell_type": "code",
   "execution_count": 2,
   "metadata": {},
   "outputs": [],
   "source": [
    "df = pd.read_csv(\"distribution.csv\")\n",
    "names = [\n",
    "    \"mediapipe\",\n",
    "    \"nose\",\n",
    "    \"lips\",\n",
    "    \"eyes\",\n",
    "    \"left_eye\",\n",
    "    \"right_eye\",\n",
    "    \"right_cheek\",\n",
    "    \"left_cheek\",\n",
    "    \"chin\",\n",
    "    \"eyebrows\",\n",
    "    \"left_eyebrow\",\n",
    "    \"right_eyebrow\",\n",
    "]"
   ]
  },
  {
   "cell_type": "code",
   "execution_count": 3,
   "metadata": {},
   "outputs": [
    {
     "name": "stdout",
     "output_type": "stream",
     "text": [
      "2251\n"
     ]
    }
   ],
   "source": [
    "files = []\n",
    "dirs = [os.listdir(name) for name in names]\n",
    "\n",
    "for file in os.listdir(\"images\"):\n",
    "    if np.array([file in d for d in dirs]).all():\n",
    "        files.append(file)\n",
    "\n",
    "print(len(files))"
   ]
  },
  {
   "cell_type": "code",
   "execution_count": 4,
   "metadata": {},
   "outputs": [],
   "source": [
    "train_files, test_files = train_test_split(files, test_size=0.2, random_state=42)"
   ]
  },
  {
   "cell_type": "code",
   "execution_count": 5,
   "metadata": {},
   "outputs": [],
   "source": [
    "def file_to_line(file):\n",
    "    x = df[df[\"filename\"] == file].to_numpy()[0]\n",
    "    line = \"\"\n",
    "    line += x[0] + \" \"\n",
    "    y = np.array(x[1:11], np.float32)\n",
    "    for n in y:\n",
    "        line += str(n) + \" \"\n",
    "    line += str(x[11])\n",
    "    return line"
   ]
  },
  {
   "cell_type": "code",
   "execution_count": 6,
   "metadata": {},
   "outputs": [],
   "source": [
    "with open(\"train.txt\", \"w\") as f:\n",
    "    for file in train_files:\n",
    "        f.write(file_to_line(file)+\"\\n\")"
   ]
  },
  {
   "cell_type": "code",
   "execution_count": 7,
   "metadata": {},
   "outputs": [],
   "source": [
    "with open(\"test.txt\", \"w\") as f:\n",
    "    for file in test_files:\n",
    "        f.write(file_to_line(file)+\"\\n\")"
   ]
  }
 ],
 "metadata": {
  "kernelspec": {
   "display_name": "Python 3",
   "language": "python",
   "name": "python3"
  },
  "language_info": {
   "codemirror_mode": {
    "name": "ipython",
    "version": 3
   },
   "file_extension": ".py",
   "mimetype": "text/x-python",
   "name": "python",
   "nbconvert_exporter": "python",
   "pygments_lexer": "ipython3",
   "version": "3.10.6"
  }
 },
 "nbformat": 4,
 "nbformat_minor": 2
}
