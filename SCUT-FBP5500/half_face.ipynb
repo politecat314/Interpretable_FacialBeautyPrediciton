{
 "cells": [
  {
   "cell_type": "code",
   "execution_count": 1,
   "metadata": {},
   "outputs": [],
   "source": [
    "import numpy as np\n",
    "import cv2\n",
    "import os\n",
    "import matplotlib.pyplot as plt"
   ]
  },
  {
   "cell_type": "code",
   "execution_count": 2,
   "metadata": {},
   "outputs": [],
   "source": [
    "files = os.listdir(\"./images\")"
   ]
  },
  {
   "cell_type": "code",
   "execution_count": 9,
   "metadata": {},
   "outputs": [],
   "source": [
    "for f in files:\n",
    "    face = cv2.imread(os.path.join(\"./images\",f))\n",
    "    left = face[:,:face.shape[1]//2]\n",
    "    right = face[:,face.shape[1]//2:]\n",
    "    cv2.imwrite(os.path.join(\"./left_face\",f), left)\n",
    "    cv2.imwrite(os.path.join(\"./right_face\",f), right)"
   ]
  },
  {
   "cell_type": "code",
   "execution_count": 10,
   "metadata": {},
   "outputs": [],
   "source": [
    "for f in files:\n",
    "    eyes = cv2.imread(os.path.join(\"./eyes\",f))\n",
    "    left = eyes[:,:eyes.shape[1]//2]\n",
    "    right = eyes[:,eyes.shape[1]//2:]\n",
    "    cv2.imwrite(os.path.join(\"./left_eye\",f), left)\n",
    "    cv2.imwrite(os.path.join(\"./right_eye\",f), right)"
   ]
  }
 ],
 "metadata": {
  "kernelspec": {
   "display_name": "Python 3",
   "language": "python",
   "name": "python3"
  },
  "language_info": {
   "codemirror_mode": {
    "name": "ipython",
    "version": 3
   },
   "file_extension": ".py",
   "mimetype": "text/x-python",
   "name": "python",
   "nbconvert_exporter": "python",
   "pygments_lexer": "ipython3",
   "version": "3.10.6"
  }
 },
 "nbformat": 4,
 "nbformat_minor": 2
}
