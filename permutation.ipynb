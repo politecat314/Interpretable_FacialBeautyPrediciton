{
 "cells": [
  {
   "cell_type": "code",
   "execution_count": 1,
   "metadata": {},
   "outputs": [],
   "source": [
    "import numpy as np\n",
    "from subprocess import call\n",
    "from tqdm import tqdm"
   ]
  },
  {
   "cell_type": "code",
   "execution_count": 2,
   "metadata": {},
   "outputs": [],
   "source": [
    "names = [\n",
    "    \"nose\",\n",
    "    \"lips\",\n",
    "    \"eyes\",\n",
    "    \"left_eye\",\n",
    "    \"right_eye\",\n",
    "    \"right_cheek\",\n",
    "    \"left_cheek\",\n",
    "    \"chin\",\n",
    "    \"eyebrows\",\n",
    "    \"left_eyebrow\",\n",
    "    \"right_eyebrow\",\n",
    "]"
   ]
  },
  {
   "cell_type": "code",
   "execution_count": 3,
   "metadata": {},
   "outputs": [],
   "source": [
    "names = [\n",
    "    \"nose\",\n",
    "    \"lips\",\n",
    "    \"eyes\",\n",
    "    \"cheeks\",\n",
    "    \"chin\",\n",
    "    \"eyebrows\",\n",
    "]"
   ]
  },
  {
   "cell_type": "code",
   "execution_count": 13,
   "metadata": {},
   "outputs": [
    {
     "name": "stdout",
     "output_type": "stream",
     "text": [
      "0\n",
      "0\n",
      "0\n",
      "0\n",
      "0\n",
      "0\n",
      "0\n"
     ]
    }
   ],
   "source": [
    "print(call([\n",
    "    \"python\",\n",
    "    \"predictor.py\",\n",
    "    \"SCUT-FBP5500\",\n",
    "    str(5),\n",
    "    \"mediapipe\",\n",
    "    \"mediapipe\",\n",
    "    \"1\",\n",
    "    \"0\",\n",
    "    \"y_pred_test\",\n",
    "    \"y_pred_train\",\n",
    "]))\n",
    "\n",
    "for name in names:\n",
    "    print(call([\n",
    "        \"python\",\n",
    "        \"predictor.py\",\n",
    "        \"SCUT-FBP5500\",\n",
    "        str(5),\n",
    "        name,\n",
    "        name,\n",
    "        \"1\",\n",
    "        \"0\",\n",
    "        \"y_pred_test\",\n",
    "        \"y_pred_train\",\n",
    "    ]))"
   ]
  },
  {
   "cell_type": "code",
   "execution_count": 14,
   "metadata": {},
   "outputs": [
    {
     "name": "stdout",
     "output_type": "stream",
     "text": [
      "0\n",
      "0\n",
      "0\n",
      "0\n",
      "0\n",
      "0\n",
      "0\n"
     ]
    }
   ],
   "source": [
    "print(call([\n",
    "    \"python\",\n",
    "    \"predictor.py\",\n",
    "    \"MEBeauty\",\n",
    "    str(10),\n",
    "    \"mediapipe\",\n",
    "    \"mediapipe\",\n",
    "    \"0\",\n",
    "    \"0\",\n",
    "    \"y_pred_test\",\n",
    "    \"y_pred_train\",\n",
    "]))\n",
    "\n",
    "for name in names:\n",
    "    print(call([\n",
    "        \"python\",\n",
    "        \"predictor.py\",\n",
    "        \"MEBeauty\",\n",
    "        str(10),\n",
    "        name,\n",
    "        name,\n",
    "        \"0\",\n",
    "        \"0\",\n",
    "        \"y_pred_test\",\n",
    "        \"y_pred_train\",\n",
    "    ]))"
   ]
  },
  {
   "cell_type": "code",
   "execution_count": 4,
   "metadata": {},
   "outputs": [
    {
     "name": "stdout",
     "output_type": "stream",
     "text": [
      "0\n"
     ]
    },
    {
     "name": "stderr",
     "output_type": "stream",
     "text": [
      "100%|██████████| 5/5 [01:53<00:00, 22.61s/it]\n"
     ]
    },
    {
     "name": "stdout",
     "output_type": "stream",
     "text": [
      "nose\n"
     ]
    },
    {
     "name": "stderr",
     "output_type": "stream",
     "text": [
      "100%|██████████| 5/5 [01:53<00:00, 22.66s/it]\n"
     ]
    },
    {
     "name": "stdout",
     "output_type": "stream",
     "text": [
      "lips\n"
     ]
    },
    {
     "name": "stderr",
     "output_type": "stream",
     "text": [
      "100%|██████████| 5/5 [01:54<00:00, 22.83s/it]\n"
     ]
    },
    {
     "name": "stdout",
     "output_type": "stream",
     "text": [
      "eyes\n"
     ]
    },
    {
     "name": "stderr",
     "output_type": "stream",
     "text": [
      "100%|██████████| 5/5 [02:28<00:00, 29.67s/it]\n"
     ]
    },
    {
     "name": "stdout",
     "output_type": "stream",
     "text": [
      "cheeks\n"
     ]
    },
    {
     "name": "stderr",
     "output_type": "stream",
     "text": [
      "100%|██████████| 5/5 [01:55<00:00, 23.09s/it]\n"
     ]
    },
    {
     "name": "stdout",
     "output_type": "stream",
     "text": [
      "chin\n"
     ]
    },
    {
     "name": "stderr",
     "output_type": "stream",
     "text": [
      "100%|██████████| 5/5 [01:51<00:00, 22.34s/it]"
     ]
    },
    {
     "name": "stdout",
     "output_type": "stream",
     "text": [
      "eyebrows\n"
     ]
    },
    {
     "name": "stderr",
     "output_type": "stream",
     "text": [
      "\n"
     ]
    }
   ],
   "source": [
    "print(call([\n",
    "    \"python\",\n",
    "    \"predictor.py\",\n",
    "    \"SCUT-FBP5500\",\n",
    "    str(5),\n",
    "    \"mediapipe\",\n",
    "    \"mediapipe\",\n",
    "    \"1\",\n",
    "    \"1\",\n",
    "    \"s_test\",\n",
    "    \"s_train\",\n",
    "]))\n",
    "for name in names:\n",
    "    for i in tqdm(range(1,6)):\n",
    "        call([\n",
    "            \"python\",\n",
    "            \"predictor.py\",\n",
    "            \"SCUT-FBP5500\",\n",
    "            str(5),\n",
    "            f\"p_{name}/{i}\",\n",
    "            \"mediapipe\",\n",
    "            \"1\",\n",
    "            \"1\",\n",
    "            \"s_test\",\n",
    "            \"s_train\",\n",
    "        ])\n",
    "    print(name)"
   ]
  },
  {
   "cell_type": "code",
   "execution_count": 5,
   "metadata": {},
   "outputs": [
    {
     "name": "stdout",
     "output_type": "stream",
     "text": [
      "0\n"
     ]
    },
    {
     "name": "stderr",
     "output_type": "stream",
     "text": [
      "100%|██████████| 5/5 [01:28<00:00, 17.68s/it]\n"
     ]
    },
    {
     "name": "stdout",
     "output_type": "stream",
     "text": [
      "nose\n"
     ]
    },
    {
     "name": "stderr",
     "output_type": "stream",
     "text": [
      "100%|██████████| 5/5 [01:28<00:00, 17.71s/it]\n"
     ]
    },
    {
     "name": "stdout",
     "output_type": "stream",
     "text": [
      "lips\n"
     ]
    },
    {
     "name": "stderr",
     "output_type": "stream",
     "text": [
      "100%|██████████| 5/5 [01:28<00:00, 17.71s/it]\n"
     ]
    },
    {
     "name": "stdout",
     "output_type": "stream",
     "text": [
      "eyes\n"
     ]
    },
    {
     "name": "stderr",
     "output_type": "stream",
     "text": [
      "100%|██████████| 5/5 [01:31<00:00, 18.21s/it]\n"
     ]
    },
    {
     "name": "stdout",
     "output_type": "stream",
     "text": [
      "cheeks\n"
     ]
    },
    {
     "name": "stderr",
     "output_type": "stream",
     "text": [
      "100%|██████████| 5/5 [01:37<00:00, 19.40s/it]\n"
     ]
    },
    {
     "name": "stdout",
     "output_type": "stream",
     "text": [
      "chin\n"
     ]
    },
    {
     "name": "stderr",
     "output_type": "stream",
     "text": [
      "100%|██████████| 5/5 [01:31<00:00, 18.28s/it]"
     ]
    },
    {
     "name": "stdout",
     "output_type": "stream",
     "text": [
      "eyebrows\n"
     ]
    },
    {
     "name": "stderr",
     "output_type": "stream",
     "text": [
      "\n"
     ]
    }
   ],
   "source": [
    "print(call([\n",
    "    \"python\",\n",
    "    \"predictor.py\",\n",
    "    \"MEBeauty\",\n",
    "    str(10),\n",
    "    \"mediapipe\",\n",
    "    \"mediapipe\",\n",
    "    \"1\",\n",
    "    \"1\",\n",
    "    \"s_test\",\n",
    "    \"s_train\",\n",
    "]))\n",
    "for name in names:\n",
    "    for i in tqdm(range(1,6)):\n",
    "        call([\n",
    "            \"python\",\n",
    "            \"predictor.py\",\n",
    "            \"MEBeauty\",\n",
    "            str(10),\n",
    "            f\"p_{name}/{i}\",\n",
    "            \"mediapipe\",\n",
    "            \"1\",\n",
    "            \"1\",\n",
    "            \"s_test\",\n",
    "            \"s_train\",\n",
    "        ])\n",
    "    print(name)"
   ]
  }
 ],
 "metadata": {
  "kernelspec": {
   "display_name": "Python 3",
   "language": "python",
   "name": "python3"
  },
  "language_info": {
   "codemirror_mode": {
    "name": "ipython",
    "version": 3
   },
   "file_extension": ".py",
   "mimetype": "text/x-python",
   "name": "python",
   "nbconvert_exporter": "python",
   "pygments_lexer": "ipython3",
   "version": "3.10.6"
  }
 },
 "nbformat": 4,
 "nbformat_minor": 2
}
