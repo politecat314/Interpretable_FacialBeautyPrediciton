{
 "cells": [
  {
   "cell_type": "code",
   "execution_count": 1,
   "metadata": {},
   "outputs": [],
   "source": [
    "import os\n",
    "import cv2\n",
    "import numpy as np\n",
    "import pandas as pd"
   ]
  },
  {
   "cell_type": "code",
   "execution_count": 2,
   "metadata": {},
   "outputs": [
    {
     "data": {
      "text/plain": [
       "2607"
      ]
     },
     "execution_count": 2,
     "metadata": {},
     "output_type": "execute_result"
    }
   ],
   "source": [
    "df = pd.read_excel(\"./generic_scores_all_2022.xlsx\", engine=\"openpyxl\")\n",
    "len(df.index)"
   ]
  },
  {
   "cell_type": "code",
   "execution_count": 4,
   "metadata": {},
   "outputs": [
    {
     "name": "stdout",
     "output_type": "stream",
     "text": [
      "2329\n"
     ]
    }
   ],
   "source": [
    "df1 = df.drop(columns=[\"mean\",\"image\",\"path\"])\n",
    "df1 = df1.dropna(thresh=9,axis=0)\n",
    "df1 = df1.dropna(thresh=29,axis=1)\n",
    "df1 = df1.fillna(0)\n",
    "df1.insert(0, column=\"filename\", value=df[\"image\"][df.index])\n",
    "print(len(df1.index))"
   ]
  },
  {
   "cell_type": "code",
   "execution_count": 22,
   "metadata": {},
   "outputs": [
    {
     "data": {
      "text/plain": [
       "24.06597621787495"
      ]
     },
     "execution_count": 22,
     "metadata": {},
     "output_type": "execute_result"
    }
   ],
   "source": [
    "df2 = df.drop(columns=[\"mean\",\"image\",\"path\"]).fillna(0)\n",
    "np.mean(df2.astype(bool).sum(axis=1))"
   ]
  },
  {
   "cell_type": "code",
   "execution_count": 63,
   "metadata": {},
   "outputs": [],
   "source": [
    "if not os.path.exists(\"images\"):\n",
    "    os.makedirs(\"images\")"
   ]
  },
  {
   "cell_type": "code",
   "execution_count": 64,
   "metadata": {},
   "outputs": [
    {
     "name": "stdout",
     "output_type": "stream",
     "text": [
      "images_old\\pexels-nguyễn-lâm-886477.jpg\n",
      "images_old\\pexels-tha¿¬s-silva-3135649.jpg\n",
      "images_old\\pexels-ron¿║-ferreira-2304113.jpg\n"
     ]
    }
   ],
   "source": [
    "cols = [str(i+1) for i in range(10)]\n",
    "df2 = pd.DataFrame(columns=[\"filename\", *cols, \"mean\", \"raters\"], index=f.index)\n",
    "\n",
    "k = 0\n",
    "for i in range(len(df1.index)):\n",
    "    path = os.path.join(\"images_old\",df1.iloc[i, 0])\n",
    "    if os.path.exists(path):\n",
    "        try:\n",
    "            image = cv2.imread(path)\n",
    "            cv2.imwrite(os.path.join(\"images\",str(k)+\".jpg\"), image)\n",
    "            arr = df1.iloc[i, 1:].to_numpy().astype(np.float32)\n",
    "            arr = arr[arr != 0]\n",
    "            df2.iloc[i, 0] = str(k)+\".jpg\"\n",
    "            df2.iloc[i, -2] = np.mean(arr)\n",
    "            df2.iloc[i, -1] = np.count_nonzero(arr)\n",
    "\n",
    "            for j in range(10):\n",
    "                df2.iloc[i, j+1] = np.count_nonzero(arr == j+1)/np.count_nonzero(arr)\n",
    "\n",
    "            k += 1\n",
    "        except:\n",
    "            print(path)\n",
    "            \n",
    "df2 = df2.dropna()\n",
    "df2.to_csv(\"distribution.csv\", sep=\",\", index=False)"
   ]
  }
 ],
 "metadata": {
  "kernelspec": {
   "display_name": "Python 3",
   "language": "python",
   "name": "python3"
  },
  "language_info": {
   "codemirror_mode": {
    "name": "ipython",
    "version": 3
   },
   "file_extension": ".py",
   "mimetype": "text/x-python",
   "name": "python",
   "nbconvert_exporter": "python",
   "pygments_lexer": "ipython3",
   "version": "3.10.6"
  }
 },
 "nbformat": 4,
 "nbformat_minor": 2
}
